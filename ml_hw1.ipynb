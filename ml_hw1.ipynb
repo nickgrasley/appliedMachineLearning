{
 "cells": [
  {
   "cell_type": "code",
   "execution_count": 249,
   "metadata": {},
   "outputs": [],
   "source": [
    "import pandas as pd\n",
    "import numpy  as np\n",
    "import sqlite3\n",
    "from __future__ import (absolute_import, division, print_function)\n",
    "import matplotlib.pyplot as plt\n",
    "from mpl_toolkits.basemap import Basemap as Basemap\n",
    "from matplotlib.colors import rgb2hex, Normalize\n",
    "from matplotlib.patches import Polygon\n",
    "from matplotlib.colorbar import ColorbarBase\n",
    "import seaborn as sns\n",
    "import requests\n",
    "%matplotlib inline"
   ]
  },
  {
   "cell_type": "markdown",
   "metadata": {},
   "source": [
    "Right now, I am working on applying for a grant. I want to examine the Great Migration where many blacks moved north during the early 20th century. I'm curious how lynching may have played a part in the migration. I found this data on Kaggle. https://www.kaggle.com/rtatman/historical-american-lynching. Let's first read it in and take a quick look at the information contained within."
   ]
  },
  {
   "cell_type": "code",
   "execution_count": 250,
   "metadata": {},
   "outputs": [],
   "source": [
    "lynchingData = pd.read_csv('historical-american-lynching.csv')"
   ]
  },
  {
   "cell_type": "code",
   "execution_count": 251,
   "metadata": {},
   "outputs": [
    {
     "name": "stdout",
     "output_type": "stream",
     "text": [
      "(2806, 15)\n"
     ]
    },
    {
     "data": {
      "text/html": [
       "<div>\n",
       "<style scoped>\n",
       "    .dataframe tbody tr th:only-of-type {\n",
       "        vertical-align: middle;\n",
       "    }\n",
       "\n",
       "    .dataframe tbody tr th {\n",
       "        vertical-align: top;\n",
       "    }\n",
       "\n",
       "    .dataframe thead th {\n",
       "        text-align: right;\n",
       "    }\n",
       "</style>\n",
       "<table border=\"1\" class=\"dataframe\">\n",
       "  <thead>\n",
       "    <tr style=\"text-align: right;\">\n",
       "      <th></th>\n",
       "      <th>State</th>\n",
       "      <th>Year</th>\n",
       "      <th>Mo</th>\n",
       "      <th>Day</th>\n",
       "      <th>Victim</th>\n",
       "      <th>County</th>\n",
       "      <th>Race</th>\n",
       "      <th>Sex</th>\n",
       "      <th>Mob</th>\n",
       "      <th>Offense</th>\n",
       "      <th>Note</th>\n",
       "      <th>2nd Name</th>\n",
       "      <th>3rd Name</th>\n",
       "      <th>Comments</th>\n",
       "      <th>Source</th>\n",
       "    </tr>\n",
       "  </thead>\n",
       "  <tbody>\n",
       "    <tr>\n",
       "      <th>0</th>\n",
       "      <td>AL</td>\n",
       "      <td>1904</td>\n",
       "      <td>4</td>\n",
       "      <td>30</td>\n",
       "      <td>Gaines Hall</td>\n",
       "      <td>Autauga</td>\n",
       "      <td>Blk</td>\n",
       "      <td>Male</td>\n",
       "      <td>NaN</td>\n",
       "      <td>Assaulted woman (rape)</td>\n",
       "      <td>NaN</td>\n",
       "      <td>NaN</td>\n",
       "      <td>NaN</td>\n",
       "      <td>NaN</td>\n",
       "      <td>NaN</td>\n",
       "    </tr>\n",
       "    <tr>\n",
       "      <th>1</th>\n",
       "      <td>AL</td>\n",
       "      <td>1908</td>\n",
       "      <td>4</td>\n",
       "      <td>5</td>\n",
       "      <td>Walter Clayton</td>\n",
       "      <td>Baldwin</td>\n",
       "      <td>Blk</td>\n",
       "      <td>Male</td>\n",
       "      <td>NaN</td>\n",
       "      <td>Rape</td>\n",
       "      <td>NaN</td>\n",
       "      <td>NaN</td>\n",
       "      <td>NaN</td>\n",
       "      <td>NaN</td>\n",
       "      <td>NaN</td>\n",
       "    </tr>\n",
       "    <tr>\n",
       "      <th>2</th>\n",
       "      <td>AL</td>\n",
       "      <td>1919</td>\n",
       "      <td>6</td>\n",
       "      <td>15</td>\n",
       "      <td>Frank Foukal</td>\n",
       "      <td>Baldwin</td>\n",
       "      <td>Wht</td>\n",
       "      <td>Male</td>\n",
       "      <td>NaN</td>\n",
       "      <td>Murder</td>\n",
       "      <td>NaN</td>\n",
       "      <td>Frank Fokall</td>\n",
       "      <td>Frank Roukal</td>\n",
       "      <td>NaN</td>\n",
       "      <td>NaN</td>\n",
       "    </tr>\n",
       "    <tr>\n",
       "      <th>3</th>\n",
       "      <td>AL</td>\n",
       "      <td>1885</td>\n",
       "      <td>10</td>\n",
       "      <td>21</td>\n",
       "      <td>George Ward</td>\n",
       "      <td>Barbour</td>\n",
       "      <td>Blk</td>\n",
       "      <td>Male</td>\n",
       "      <td>NaN</td>\n",
       "      <td>Murder</td>\n",
       "      <td>NaN</td>\n",
       "      <td>NaN</td>\n",
       "      <td>NaN</td>\n",
       "      <td>NaN</td>\n",
       "      <td>NaN</td>\n",
       "    </tr>\n",
       "    <tr>\n",
       "      <th>4</th>\n",
       "      <td>AL</td>\n",
       "      <td>1911</td>\n",
       "      <td>2</td>\n",
       "      <td>12</td>\n",
       "      <td>Iver Peterson</td>\n",
       "      <td>Barbour</td>\n",
       "      <td>Blk</td>\n",
       "      <td>Male</td>\n",
       "      <td>NaN</td>\n",
       "      <td>Attempted assault (rape)</td>\n",
       "      <td>NaN</td>\n",
       "      <td>NaN</td>\n",
       "      <td>NaN</td>\n",
       "      <td>NaN</td>\n",
       "      <td>NaN</td>\n",
       "    </tr>\n",
       "  </tbody>\n",
       "</table>\n",
       "</div>"
      ],
      "text/plain": [
       "  State  Year  Mo Day          Victim    County Race   Sex  Mob  \\\n",
       "0    AL  1904   4  30     Gaines Hall  Autauga   Blk  Male  NaN   \n",
       "1    AL  1908   4   5  Walter Clayton  Baldwin   Blk  Male  NaN   \n",
       "2    AL  1919   6  15    Frank Foukal  Baldwin   Wht  Male  NaN   \n",
       "3    AL  1885  10  21     George Ward  Barbour   Blk  Male  NaN   \n",
       "4    AL  1911   2  12   Iver Peterson  Barbour   Blk  Male  NaN   \n",
       "\n",
       "                    Offense Note      2nd Name      3rd Name Comments Source  \n",
       "0    Assaulted woman (rape)  NaN           NaN           NaN      NaN    NaN  \n",
       "1                      Rape  NaN           NaN           NaN      NaN    NaN  \n",
       "2                    Murder  NaN  Frank Fokall  Frank Roukal      NaN    NaN  \n",
       "3                    Murder  NaN           NaN           NaN      NaN    NaN  \n",
       "4  Attempted assault (rape)  NaN           NaN           NaN      NaN    NaN  "
      ]
     },
     "execution_count": 251,
     "metadata": {},
     "output_type": "execute_result"
    }
   ],
   "source": [
    "print(lynchingData.shape)\n",
    "lynchingData.head()"
   ]
  },
  {
   "cell_type": "markdown",
   "metadata": {},
   "source": [
    "Often, different versions of state names are useful, such as state fips and the full state names."
   ]
  },
  {
   "cell_type": "code",
   "execution_count": 252,
   "metadata": {},
   "outputs": [],
   "source": [
    "stateFips = {'AL':1,'AK':2,'AZ':4,'AR':5,'CA':6,'CO':8,'CT':9,'DE':10,'DC':11,'FL':12,'GA':13,\\\n",
    "             'HI':15,'ID':16,'IL':17,'IN':18,'IA':19,'KS':20,'KY':21,'LA':22,'ME':23,'MD':24,\\\n",
    "             'MA':25,'MI':26,'MN':27,'MS':28,'MO':29,'MT':30,'NE':31,'NV':32,'NH':33,'NJ':34,\\\n",
    "             'NM':35,'NY':36,'NC':37,'ND':38,'OH':39,'OK':40,'OR':41,'PA':42,'RI':44,'SC':45,\\\n",
    "             'SD':46,'TN':47,'TX':48,'UT':49,'VT':50,'VA':51,'WA':53,'WV':54,'WI':55,'WY':56}\n",
    "lynchingData['stateFips'] = lynchingData.State.replace(stateFips)\n",
    "stateFull = {'AL':'Alabama','AK':'Alaska','AZ':'Arizona','AR':'Arkansas','CA':'California',\\\n",
    "             'CO':'Colorado','CT':'Connecticut','DE':'Delaware','DC':'District of Colombia',\\\n",
    "             'FL':'Florida','GA':'Georgia','HI':'Hawaii','ID':'Idaho','IL':'Illinois','IN':'Indiana',\\\n",
    "             'IA':'Iowa','KS':'Kansas','KY':'Kentucky','LA':'Louisiana','ME':'Maine','MD':'Maryland',\\\n",
    "             'MA':'Massachusetts','MI':'Michigan','MN':'Minnesota','MS':'Mississippi','MO':'Missouri',\\\n",
    "             'MT':'Montana','NE':'Nebraska','NV':'Nevada','NH':'New Hampshire','NJ':'New Jersey',\\\n",
    "             'NM':'New Mexico','NY':'New York','NC':'North Carolina','ND':'North Dakota','OH':'Ohio',\\\n",
    "             'OK':'Oklahoma','OR':'Oregon','PA':'Pennsylvania','RI':'Rhode Island','SC':'South Carolina',\\\n",
    "             'SD':'South Dakota','TN':'Tennessee','TX':'Texas','UT':'Utah','VT':'Vermont','VA':'Virginia',\\\n",
    "             'WA':'Washington','WV':'West Virginia','WI':'Wisconsin','WY':'Wyoming'}\n",
    "lynchingData['stateFull'] = lynchingData.State.replace(stateFull)"
   ]
  },
  {
   "cell_type": "markdown",
   "metadata": {},
   "source": [
    "Clean the year variable. I tried to_numeric, but there's this one value here that is messing it up. We'll delete the observation because there's a lot of other things missing"
   ]
  },
  {
   "cell_type": "code",
   "execution_count": 253,
   "metadata": {},
   "outputs": [
    {
     "name": "stdout",
     "output_type": "stream",
     "text": [
      "2435    1900s\n",
      "Name: Year, dtype: object\n"
     ]
    }
   ],
   "source": [
    "print(lynchingData.loc[lynchingData.Year.str.contains('\\D'),'Year'])\n",
    "badObservation = lynchingData.loc[lynchingData.Year.str.contains('\\D'),'Year'].index[0]\n",
    "lynchingData.drop(badObservation,inplace=True)"
   ]
  },
  {
   "cell_type": "markdown",
   "metadata": {},
   "source": [
    "Let's convert year, month, and day to numeric values to ensure that it's how we want it."
   ]
  },
  {
   "cell_type": "code",
   "execution_count": 254,
   "metadata": {},
   "outputs": [
    {
     "data": {
      "text/html": [
       "<div>\n",
       "<style scoped>\n",
       "    .dataframe tbody tr th:only-of-type {\n",
       "        vertical-align: middle;\n",
       "    }\n",
       "\n",
       "    .dataframe tbody tr th {\n",
       "        vertical-align: top;\n",
       "    }\n",
       "\n",
       "    .dataframe thead th {\n",
       "        text-align: right;\n",
       "    }\n",
       "</style>\n",
       "<table border=\"1\" class=\"dataframe\">\n",
       "  <thead>\n",
       "    <tr style=\"text-align: right;\">\n",
       "      <th></th>\n",
       "      <th>Year</th>\n",
       "      <th>Mo</th>\n",
       "      <th>Day</th>\n",
       "      <th>stateFips</th>\n",
       "    </tr>\n",
       "  </thead>\n",
       "  <tbody>\n",
       "    <tr>\n",
       "      <th>count</th>\n",
       "      <td>2785.000000</td>\n",
       "      <td>2785.000000</td>\n",
       "      <td>2785.000000</td>\n",
       "      <td>2805.000000</td>\n",
       "    </tr>\n",
       "    <tr>\n",
       "      <th>mean</th>\n",
       "      <td>1900.841652</td>\n",
       "      <td>6.746140</td>\n",
       "      <td>15.932496</td>\n",
       "      <td>20.720499</td>\n",
       "    </tr>\n",
       "    <tr>\n",
       "      <th>std</th>\n",
       "      <td>11.797215</td>\n",
       "      <td>3.286681</td>\n",
       "      <td>8.682277</td>\n",
       "      <td>13.580122</td>\n",
       "    </tr>\n",
       "    <tr>\n",
       "      <th>min</th>\n",
       "      <td>1882.000000</td>\n",
       "      <td>1.000000</td>\n",
       "      <td>1.000000</td>\n",
       "      <td>1.000000</td>\n",
       "    </tr>\n",
       "    <tr>\n",
       "      <th>25%</th>\n",
       "      <td>1892.000000</td>\n",
       "      <td>4.000000</td>\n",
       "      <td>8.000000</td>\n",
       "      <td>12.000000</td>\n",
       "    </tr>\n",
       "    <tr>\n",
       "      <th>50%</th>\n",
       "      <td>1899.000000</td>\n",
       "      <td>7.000000</td>\n",
       "      <td>16.000000</td>\n",
       "      <td>21.000000</td>\n",
       "    </tr>\n",
       "    <tr>\n",
       "      <th>75%</th>\n",
       "      <td>1910.000000</td>\n",
       "      <td>9.000000</td>\n",
       "      <td>23.000000</td>\n",
       "      <td>28.000000</td>\n",
       "    </tr>\n",
       "    <tr>\n",
       "      <th>max</th>\n",
       "      <td>1930.000000</td>\n",
       "      <td>12.000000</td>\n",
       "      <td>31.000000</td>\n",
       "      <td>47.000000</td>\n",
       "    </tr>\n",
       "  </tbody>\n",
       "</table>\n",
       "</div>"
      ],
      "text/plain": [
       "              Year           Mo          Day    stateFips\n",
       "count  2785.000000  2785.000000  2785.000000  2805.000000\n",
       "mean   1900.841652     6.746140    15.932496    20.720499\n",
       "std      11.797215     3.286681     8.682277    13.580122\n",
       "min    1882.000000     1.000000     1.000000     1.000000\n",
       "25%    1892.000000     4.000000     8.000000    12.000000\n",
       "50%    1899.000000     7.000000    16.000000    21.000000\n",
       "75%    1910.000000     9.000000    23.000000    28.000000\n",
       "max    1930.000000    12.000000    31.000000    47.000000"
      ]
     },
     "execution_count": 254,
     "metadata": {},
     "output_type": "execute_result"
    }
   ],
   "source": [
    "for var in ['Year','Mo','Day']:\n",
    "    badObs = lynchingData.loc[lynchingData.Day.str.contains('\\D').fillna(False),var].index\n",
    "    lynchingData.loc[badObs.values,var] = np.nan\n",
    "    lynchingData.loc[:, var] = lynchingData.loc[:, var].astype(np.float_)\n",
    "\n",
    "lynchingData.describe()"
   ]
  },
  {
   "cell_type": "markdown",
   "metadata": {},
   "source": [
    "Let's split up the names to make it easier to access the given names and surnames."
   ]
  },
  {
   "cell_type": "code",
   "execution_count": 255,
   "metadata": {},
   "outputs": [],
   "source": [
    "lynchingData.Victim = lynchingData.Victim.str.strip() #I noticed one person had trailing whitespace.\n",
    "names = lynchingData.Victim.str.split(' ', expand=True)\n",
    "lynchingData.drop(['Victim'],axis=1,inplace=True)\n",
    "nameCols = ['name{}'.format(i) for i in range(names.shape[1])]\n",
    "names.columns = nameCols\n",
    "lynchingData = pd.concat([lynchingData,names],axis=1)"
   ]
  },
  {
   "cell_type": "code",
   "execution_count": 256,
   "metadata": {},
   "outputs": [
    {
     "data": {
      "text/plain": [
       "543"
      ]
     },
     "execution_count": 256,
     "metadata": {},
     "output_type": "execute_result"
    }
   ],
   "source": [
    "len(lynchingData.County.unique()) #Since the number of counties is a quarter of the number of rows,\n",
    "                                  #storing this as categorical is probably inefficient."
   ]
  },
  {
   "cell_type": "markdown",
   "metadata": {},
   "source": [
    "We can convert race and sex to categoricals."
   ]
  },
  {
   "cell_type": "code",
   "execution_count": 257,
   "metadata": {},
   "outputs": [],
   "source": [
    "for var in ['Race','Sex']:\n",
    "    lynchingData.loc[:,var] = lynchingData.loc[:,var].astype('category')"
   ]
  },
  {
   "cell_type": "markdown",
   "metadata": {},
   "source": [
    "Now for a quick look at the mob variable. It's not incredibly interesting though."
   ]
  },
  {
   "cell_type": "code",
   "execution_count": 258,
   "metadata": {},
   "outputs": [
    {
     "name": "stdout",
     "output_type": "stream",
     "text": [
      "Blk    155\n",
      "Name: Mob, dtype: int64\n"
     ]
    }
   ],
   "source": [
    "print(lynchingData.Mob.value_counts())\n",
    "lynchingData.loc[~lynchingData['Mob'].isnull(), 'Mob'] = 1"
   ]
  },
  {
   "cell_type": "markdown",
   "metadata": {},
   "source": [
    "Unique is only one value, so let's convert it to an integer"
   ]
  },
  {
   "cell_type": "code",
   "execution_count": 259,
   "metadata": {},
   "outputs": [],
   "source": [
    "lynchingData.loc[~lynchingData.Note.isnull(),'Note'].unique()\n",
    "lynchingData.loc[~lynchingData.Note.isnull(),'Note'] = 1\n",
    "lynchingData.loc[lynchingData.Note.isnull(),'Note'] = 0\n",
    "lynchingData.Note = lynchingData.Note.astype(np.int_)"
   ]
  },
  {
   "cell_type": "markdown",
   "metadata": {},
   "source": [
    "Time for some descriptions and visualizations. Let's start with a basic look at the number of lynchings."
   ]
  },
  {
   "cell_type": "code",
   "execution_count": 260,
   "metadata": {},
   "outputs": [
    {
     "data": {
      "text/plain": [
       "count     49.000000\n",
       "mean      56.836735\n",
       "std       29.012459\n",
       "min        7.000000\n",
       "25%       39.000000\n",
       "50%       55.000000\n",
       "75%       75.000000\n",
       "max      127.000000\n",
       "dtype: float64"
      ]
     },
     "execution_count": 260,
     "metadata": {},
     "output_type": "execute_result"
    }
   ],
   "source": [
    "lynchingData.groupby('Year').size().describe() #Descriptive stats on the number of lynchings per year."
   ]
  },
  {
   "cell_type": "code",
   "execution_count": 261,
   "metadata": {},
   "outputs": [
    {
     "data": {
      "text/plain": [
       "<seaborn.axisgrid.FacetGrid at 0x1a201caba8>"
      ]
     },
     "execution_count": 261,
     "metadata": {},
     "output_type": "execute_result"
    },
    {
     "data": {
      "image/png": "[encoded data removed]",
      "text/plain": [
       "<matplotlib.figure.Figure at 0x1a1fa92f28>"
      ]
     },
     "metadata": {},
     "output_type": "display_data"
    }
   ],
   "source": [
    "sns.set()\n",
    "\n",
    "sns.relplot(x='Year',y=0,kind='line',data=lynchingData.groupby('Year').size().reset_index())"
   ]
  },
  {
   "cell_type": "markdown",
   "metadata": {},
   "source": [
    "Now we're going to look at the concentration of lynchings by state. This data set only has lynchings in the south"
   ]
  },
  {
   "cell_type": "code",
   "execution_count": 262,
   "metadata": {},
   "outputs": [
    {
     "data": {
      "image/png": "[encoded data removed]",
      "text/plain": [
       "<matplotlib.figure.Figure at 0x1a203b2550>"
      ]
     },
     "metadata": {},
     "output_type": "display_data"
    }
   ],
   "source": [
    "#Graph the lynching data\n",
    "\n",
    "fig, ax = plt.subplots()\n",
    "\n",
    "# Lambert Conformal map of lower 48 states.\n",
    "m = Basemap(llcrnrlon=-119,llcrnrlat=20,urcrnrlon=-64,urcrnrlat=49,\n",
    "            projection='lcc',lat_1=33,lat_2=45,lon_0=-95)\n",
    "\n",
    "shp_info = m.readshapefile('/Users/thegrasley/Downloads/cb_2017_us_state_20m/cb_2017_us_state_20m','states',drawbounds=True,\n",
    "                           linewidth=0.45,color='gray')\n",
    "\n",
    "\n",
    "representation = lynchingData.stateFull.value_counts().to_dict()\n",
    "\n",
    "colors = {}\n",
    "statenames = []\n",
    "cmap = plt.cm.Reds\n",
    "vmin = 0 ; vmax = 538\n",
    "norm = Normalize(vmin=vmin, vmax=vmax)\n",
    "for shapedict in m.states_info:\n",
    "    statename = shapedict['NAME']\n",
    "    if statename not in ['District of Columbia', 'Puerto Rico', 'Alaska', 'Hawaii']:\n",
    "        diff = representation.get(statename,0)\n",
    "        colors[statename] = cmap((diff-vmin)/(vmax-vmin))[:3]\n",
    "    statenames.append(statename)\n",
    "\n",
    "for nshape,seg in enumerate(m.states):\n",
    "    # skip DC and Puerto Rico.\n",
    "    if statenames[nshape] not in ['Puerto Rico', 'District of Columbia', 'Alaska', 'Hawaii']:\n",
    "        color = rgb2hex(colors[statenames[nshape]])\n",
    "        poly = Polygon(seg,facecolor=color,edgecolor=color)\n",
    "        ax.add_patch(poly)\n",
    "\n",
    "\n",
    "ax_c = fig.add_axes([0.9, 0.1, 0.03, 0.8])\n",
    "cb = ColorbarBase(ax_c,cmap=cmap,norm=norm,orientation='vertical',\n",
    "                  label=r'number of lynchings')\n",
    "\n",
    "plt.savefig('coverage_map.png', dpi=300, bbox_inches='tight', bbox_extra_artists=[ax_c])\n",
    "plt.show()"
   ]
  },
  {
   "cell_type": "markdown",
   "metadata": {},
   "source": [
    "Now a look at lynchings by race and sex"
   ]
  },
  {
   "cell_type": "code",
   "execution_count": 34,
   "metadata": {},
   "outputs": [
    {
     "data": {
      "text/plain": [
       "<matplotlib.axes._subplots.AxesSubplot at 0x1a20b79630>"
      ]
     },
     "execution_count": 34,
     "metadata": {},
     "output_type": "execute_result"
    },
    {
     "data": {
      "image/png": "[encoded data removed]",
      "text/plain": [
       "<matplotlib.figure.Figure at 0x1a163ffb70>"
      ]
     },
     "metadata": {},
     "output_type": "display_data"
    }
   ],
   "source": [
    "sns.countplot(x='Race',hue='Sex',data=lynchingData)"
   ]
  },
  {
   "cell_type": "markdown",
   "metadata": {},
   "source": [
    "# Indian Premier League (Cricket)"
   ]
  },
  {
   "cell_type": "markdown",
   "metadata": {},
   "source": [
    "I'm interested in using sql in more of my work, so this data set will help me learn the basics."
   ]
  },
  {
   "cell_type": "code",
   "execution_count": 39,
   "metadata": {},
   "outputs": [],
   "source": [
    "#Indian premier league sql database\n",
    "conn = sqlite3.connect('indianPremierLeague.sqlite')\n",
    "cursor = conn.cursor()"
   ]
  },
  {
   "cell_type": "markdown",
   "metadata": {},
   "source": [
    "List of tables in the Indian premier league database"
   ]
  },
  {
   "cell_type": "code",
   "execution_count": 42,
   "metadata": {},
   "outputs": [
    {
     "name": "stdout",
     "output_type": "stream",
     "text": [
      "[('Player',), ('Extra_Runs',), ('Batsman_Scored',), ('Batting_Style',), ('Bowling_Style',), ('Country',), ('Season',), ('City',), ('Outcome',), ('Win_By',), ('Wicket_Taken',), ('Venue',), ('Extra_Type',), ('Out_Type',), ('Toss_Decision',), ('Umpire',), ('Team',), ('Ball_by_Ball',), ('sysdiagrams',), ('sqlite_sequence',), ('Match',), ('Rolee',), ('Player_Match',)]\n"
     ]
    }
   ],
   "source": [
    "cursor.execute(\"SELECT name FROM sqlite_master WHERE type='table';\")\n",
    "print(cursor.fetchall())"
   ]
  },
  {
   "cell_type": "markdown",
   "metadata": {},
   "source": [
    "Let's look to see which players score the most runs. Here's some of the tables included in the sql database first."
   ]
  },
  {
   "cell_type": "code",
   "execution_count": 53,
   "metadata": {},
   "outputs": [
    {
     "data": {
      "text/html": [
       "<div>\n",
       "<style scoped>\n",
       "    .dataframe tbody tr th:only-of-type {\n",
       "        vertical-align: middle;\n",
       "    }\n",
       "\n",
       "    .dataframe tbody tr th {\n",
       "        vertical-align: top;\n",
       "    }\n",
       "\n",
       "    .dataframe thead th {\n",
       "        text-align: right;\n",
       "    }\n",
       "</style>\n",
       "<table border=\"1\" class=\"dataframe\">\n",
       "  <thead>\n",
       "    <tr style=\"text-align: right;\">\n",
       "      <th></th>\n",
       "      <th>Player_Id</th>\n",
       "      <th>Player_Name</th>\n",
       "      <th>DOB</th>\n",
       "      <th>Batting_hand</th>\n",
       "      <th>Bowling_skill</th>\n",
       "      <th>Country_Name</th>\n",
       "    </tr>\n",
       "  </thead>\n",
       "  <tbody>\n",
       "    <tr>\n",
       "      <th>0</th>\n",
       "      <td>1</td>\n",
       "      <td>SC Ganguly</td>\n",
       "      <td>1972-07-08 00:00:00</td>\n",
       "      <td>1</td>\n",
       "      <td>1</td>\n",
       "      <td>1</td>\n",
       "    </tr>\n",
       "    <tr>\n",
       "      <th>1</th>\n",
       "      <td>2</td>\n",
       "      <td>BB McCullum</td>\n",
       "      <td>1981-09-27 00:00:00</td>\n",
       "      <td>2</td>\n",
       "      <td>1</td>\n",
       "      <td>4</td>\n",
       "    </tr>\n",
       "    <tr>\n",
       "      <th>2</th>\n",
       "      <td>3</td>\n",
       "      <td>RT Ponting</td>\n",
       "      <td>1974-12-19 00:00:00</td>\n",
       "      <td>2</td>\n",
       "      <td>1</td>\n",
       "      <td>5</td>\n",
       "    </tr>\n",
       "    <tr>\n",
       "      <th>3</th>\n",
       "      <td>4</td>\n",
       "      <td>DJ Hussey</td>\n",
       "      <td>1977-07-15 00:00:00</td>\n",
       "      <td>2</td>\n",
       "      <td>2</td>\n",
       "      <td>5</td>\n",
       "    </tr>\n",
       "    <tr>\n",
       "      <th>4</th>\n",
       "      <td>5</td>\n",
       "      <td>Mohammad Hafeez</td>\n",
       "      <td>1980-10-17 00:00:00</td>\n",
       "      <td>2</td>\n",
       "      <td>2</td>\n",
       "      <td>6</td>\n",
       "    </tr>\n",
       "    <tr>\n",
       "      <th>5</th>\n",
       "      <td>6</td>\n",
       "      <td>R Dravid</td>\n",
       "      <td>1973-01-11 00:00:00</td>\n",
       "      <td>2</td>\n",
       "      <td>2</td>\n",
       "      <td>1</td>\n",
       "    </tr>\n",
       "    <tr>\n",
       "      <th>6</th>\n",
       "      <td>7</td>\n",
       "      <td>W Jaffer</td>\n",
       "      <td>1978-02-16 00:00:00</td>\n",
       "      <td>2</td>\n",
       "      <td>2</td>\n",
       "      <td>1</td>\n",
       "    </tr>\n",
       "    <tr>\n",
       "      <th>7</th>\n",
       "      <td>8</td>\n",
       "      <td>V Kohli</td>\n",
       "      <td>1988-11-05 00:00:00</td>\n",
       "      <td>2</td>\n",
       "      <td>1</td>\n",
       "      <td>1</td>\n",
       "    </tr>\n",
       "    <tr>\n",
       "      <th>8</th>\n",
       "      <td>9</td>\n",
       "      <td>JH Kallis</td>\n",
       "      <td>1975-10-16 00:00:00</td>\n",
       "      <td>2</td>\n",
       "      <td>3</td>\n",
       "      <td>2</td>\n",
       "    </tr>\n",
       "    <tr>\n",
       "      <th>9</th>\n",
       "      <td>10</td>\n",
       "      <td>CL White</td>\n",
       "      <td>1983-08-18 00:00:00</td>\n",
       "      <td>2</td>\n",
       "      <td>4</td>\n",
       "      <td>5</td>\n",
       "    </tr>\n",
       "  </tbody>\n",
       "</table>\n",
       "</div>"
      ],
      "text/plain": [
       "   Player_Id      Player_Name                  DOB  Batting_hand  \\\n",
       "0          1       SC Ganguly  1972-07-08 00:00:00             1   \n",
       "1          2      BB McCullum  1981-09-27 00:00:00             2   \n",
       "2          3       RT Ponting  1974-12-19 00:00:00             2   \n",
       "3          4        DJ Hussey  1977-07-15 00:00:00             2   \n",
       "4          5  Mohammad Hafeez  1980-10-17 00:00:00             2   \n",
       "5          6         R Dravid  1973-01-11 00:00:00             2   \n",
       "6          7         W Jaffer  1978-02-16 00:00:00             2   \n",
       "7          8          V Kohli  1988-11-05 00:00:00             2   \n",
       "8          9        JH Kallis  1975-10-16 00:00:00             2   \n",
       "9         10         CL White  1983-08-18 00:00:00             2   \n",
       "\n",
       "   Bowling_skill  Country_Name  \n",
       "0              1             1  \n",
       "1              1             4  \n",
       "2              1             5  \n",
       "3              2             5  \n",
       "4              2             6  \n",
       "5              2             1  \n",
       "6              2             1  \n",
       "7              1             1  \n",
       "8              3             2  \n",
       "9              4             5  "
      ]
     },
     "execution_count": 53,
     "metadata": {},
     "output_type": "execute_result"
    }
   ],
   "source": [
    "head_df = pd.read_sql_query('select * from player limit 10;', conn)\n",
    "head_df"
   ]
  },
  {
   "cell_type": "code",
   "execution_count": 52,
   "metadata": {},
   "outputs": [
    {
     "data": {
      "text/html": [
       "<div>\n",
       "<style scoped>\n",
       "    .dataframe tbody tr th:only-of-type {\n",
       "        vertical-align: middle;\n",
       "    }\n",
       "\n",
       "    .dataframe tbody tr th {\n",
       "        vertical-align: top;\n",
       "    }\n",
       "\n",
       "    .dataframe thead th {\n",
       "        text-align: right;\n",
       "    }\n",
       "</style>\n",
       "<table border=\"1\" class=\"dataframe\">\n",
       "  <thead>\n",
       "    <tr style=\"text-align: right;\">\n",
       "      <th></th>\n",
       "      <th>Match_Id</th>\n",
       "      <th>Over_Id</th>\n",
       "      <th>Ball_Id</th>\n",
       "      <th>Runs_Scored</th>\n",
       "      <th>Innings_No</th>\n",
       "    </tr>\n",
       "  </thead>\n",
       "  <tbody>\n",
       "    <tr>\n",
       "      <th>0</th>\n",
       "      <td>335987</td>\n",
       "      <td>1</td>\n",
       "      <td>1</td>\n",
       "      <td>0</td>\n",
       "      <td>1</td>\n",
       "    </tr>\n",
       "    <tr>\n",
       "      <th>1</th>\n",
       "      <td>335987</td>\n",
       "      <td>1</td>\n",
       "      <td>1</td>\n",
       "      <td>1</td>\n",
       "      <td>2</td>\n",
       "    </tr>\n",
       "    <tr>\n",
       "      <th>2</th>\n",
       "      <td>335987</td>\n",
       "      <td>1</td>\n",
       "      <td>2</td>\n",
       "      <td>0</td>\n",
       "      <td>1</td>\n",
       "    </tr>\n",
       "    <tr>\n",
       "      <th>3</th>\n",
       "      <td>335987</td>\n",
       "      <td>1</td>\n",
       "      <td>3</td>\n",
       "      <td>0</td>\n",
       "      <td>2</td>\n",
       "    </tr>\n",
       "    <tr>\n",
       "      <th>4</th>\n",
       "      <td>335987</td>\n",
       "      <td>1</td>\n",
       "      <td>4</td>\n",
       "      <td>0</td>\n",
       "      <td>1</td>\n",
       "    </tr>\n",
       "    <tr>\n",
       "      <th>5</th>\n",
       "      <td>335987</td>\n",
       "      <td>1</td>\n",
       "      <td>4</td>\n",
       "      <td>1</td>\n",
       "      <td>2</td>\n",
       "    </tr>\n",
       "    <tr>\n",
       "      <th>6</th>\n",
       "      <td>335987</td>\n",
       "      <td>1</td>\n",
       "      <td>5</td>\n",
       "      <td>0</td>\n",
       "      <td>1</td>\n",
       "    </tr>\n",
       "    <tr>\n",
       "      <th>7</th>\n",
       "      <td>335987</td>\n",
       "      <td>1</td>\n",
       "      <td>5</td>\n",
       "      <td>1</td>\n",
       "      <td>2</td>\n",
       "    </tr>\n",
       "    <tr>\n",
       "      <th>8</th>\n",
       "      <td>335987</td>\n",
       "      <td>1</td>\n",
       "      <td>6</td>\n",
       "      <td>0</td>\n",
       "      <td>1</td>\n",
       "    </tr>\n",
       "    <tr>\n",
       "      <th>9</th>\n",
       "      <td>335987</td>\n",
       "      <td>1</td>\n",
       "      <td>6</td>\n",
       "      <td>0</td>\n",
       "      <td>2</td>\n",
       "    </tr>\n",
       "  </tbody>\n",
       "</table>\n",
       "</div>"
      ],
      "text/plain": [
       "   Match_Id  Over_Id  Ball_Id  Runs_Scored  Innings_No\n",
       "0    335987        1        1            0           1\n",
       "1    335987        1        1            1           2\n",
       "2    335987        1        2            0           1\n",
       "3    335987        1        3            0           2\n",
       "4    335987        1        4            0           1\n",
       "5    335987        1        4            1           2\n",
       "6    335987        1        5            0           1\n",
       "7    335987        1        5            1           2\n",
       "8    335987        1        6            0           1\n",
       "9    335987        1        6            0           2"
      ]
     },
     "execution_count": 52,
     "metadata": {},
     "output_type": "execute_result"
    }
   ],
   "source": [
    "head_scored = pd.read_sql_query('select * from Batsman_Scored limit 10;', conn)\n",
    "head_scored"
   ]
  },
  {
   "cell_type": "code",
   "execution_count": 51,
   "metadata": {},
   "outputs": [
    {
     "data": {
      "text/html": [
       "<div>\n",
       "<style scoped>\n",
       "    .dataframe tbody tr th:only-of-type {\n",
       "        vertical-align: middle;\n",
       "    }\n",
       "\n",
       "    .dataframe tbody tr th {\n",
       "        vertical-align: top;\n",
       "    }\n",
       "\n",
       "    .dataframe thead th {\n",
       "        text-align: right;\n",
       "    }\n",
       "</style>\n",
       "<table border=\"1\" class=\"dataframe\">\n",
       "  <thead>\n",
       "    <tr style=\"text-align: right;\">\n",
       "      <th></th>\n",
       "      <th>Match_Id</th>\n",
       "      <th>Player_Id</th>\n",
       "      <th>Role_Id</th>\n",
       "      <th>Team_Id</th>\n",
       "    </tr>\n",
       "  </thead>\n",
       "  <tbody>\n",
       "    <tr>\n",
       "      <th>0</th>\n",
       "      <td>335987</td>\n",
       "      <td>1</td>\n",
       "      <td>1</td>\n",
       "      <td>1</td>\n",
       "    </tr>\n",
       "    <tr>\n",
       "      <th>1</th>\n",
       "      <td>335987</td>\n",
       "      <td>2</td>\n",
       "      <td>3</td>\n",
       "      <td>1</td>\n",
       "    </tr>\n",
       "    <tr>\n",
       "      <th>2</th>\n",
       "      <td>335987</td>\n",
       "      <td>3</td>\n",
       "      <td>3</td>\n",
       "      <td>1</td>\n",
       "    </tr>\n",
       "    <tr>\n",
       "      <th>3</th>\n",
       "      <td>335987</td>\n",
       "      <td>4</td>\n",
       "      <td>3</td>\n",
       "      <td>1</td>\n",
       "    </tr>\n",
       "    <tr>\n",
       "      <th>4</th>\n",
       "      <td>335987</td>\n",
       "      <td>5</td>\n",
       "      <td>3</td>\n",
       "      <td>1</td>\n",
       "    </tr>\n",
       "    <tr>\n",
       "      <th>5</th>\n",
       "      <td>335987</td>\n",
       "      <td>6</td>\n",
       "      <td>1</td>\n",
       "      <td>2</td>\n",
       "    </tr>\n",
       "    <tr>\n",
       "      <th>6</th>\n",
       "      <td>335987</td>\n",
       "      <td>7</td>\n",
       "      <td>3</td>\n",
       "      <td>2</td>\n",
       "    </tr>\n",
       "    <tr>\n",
       "      <th>7</th>\n",
       "      <td>335987</td>\n",
       "      <td>8</td>\n",
       "      <td>3</td>\n",
       "      <td>2</td>\n",
       "    </tr>\n",
       "    <tr>\n",
       "      <th>8</th>\n",
       "      <td>335987</td>\n",
       "      <td>9</td>\n",
       "      <td>3</td>\n",
       "      <td>2</td>\n",
       "    </tr>\n",
       "    <tr>\n",
       "      <th>9</th>\n",
       "      <td>335987</td>\n",
       "      <td>10</td>\n",
       "      <td>3</td>\n",
       "      <td>2</td>\n",
       "    </tr>\n",
       "  </tbody>\n",
       "</table>\n",
       "</div>"
      ],
      "text/plain": [
       "   Match_Id  Player_Id  Role_Id  Team_Id\n",
       "0    335987          1        1        1\n",
       "1    335987          2        3        1\n",
       "2    335987          3        3        1\n",
       "3    335987          4        3        1\n",
       "4    335987          5        3        1\n",
       "5    335987          6        1        2\n",
       "6    335987          7        3        2\n",
       "7    335987          8        3        2\n",
       "8    335987          9        3        2\n",
       "9    335987         10        3        2"
      ]
     },
     "execution_count": 51,
     "metadata": {},
     "output_type": "execute_result"
    }
   ],
   "source": [
    "headPlayerMatch = pd.read_sql_query('select * from Player_Match limit 10;',conn)\n",
    "headPlayerMatch"
   ]
  },
  {
   "cell_type": "code",
   "execution_count": 56,
   "metadata": {},
   "outputs": [
    {
     "data": {
      "text/html": [
       "<div>\n",
       "<style scoped>\n",
       "    .dataframe tbody tr th:only-of-type {\n",
       "        vertical-align: middle;\n",
       "    }\n",
       "\n",
       "    .dataframe tbody tr th {\n",
       "        vertical-align: top;\n",
       "    }\n",
       "\n",
       "    .dataframe thead th {\n",
       "        text-align: right;\n",
       "    }\n",
       "</style>\n",
       "<table border=\"1\" class=\"dataframe\">\n",
       "  <thead>\n",
       "    <tr style=\"text-align: right;\">\n",
       "      <th></th>\n",
       "      <th>Match_Id</th>\n",
       "      <th>Over_Id</th>\n",
       "      <th>Ball_Id</th>\n",
       "      <th>Innings_No</th>\n",
       "      <th>Team_Batting</th>\n",
       "      <th>Team_Bowling</th>\n",
       "      <th>Striker_Batting_Position</th>\n",
       "      <th>Striker</th>\n",
       "      <th>Non_Striker</th>\n",
       "      <th>Bowler</th>\n",
       "    </tr>\n",
       "  </thead>\n",
       "  <tbody>\n",
       "    <tr>\n",
       "      <th>0</th>\n",
       "      <td>335987</td>\n",
       "      <td>1</td>\n",
       "      <td>1</td>\n",
       "      <td>1</td>\n",
       "      <td>1</td>\n",
       "      <td>2</td>\n",
       "      <td>1</td>\n",
       "      <td>1</td>\n",
       "      <td>2</td>\n",
       "      <td>14</td>\n",
       "    </tr>\n",
       "    <tr>\n",
       "      <th>1</th>\n",
       "      <td>335987</td>\n",
       "      <td>1</td>\n",
       "      <td>1</td>\n",
       "      <td>2</td>\n",
       "      <td>2</td>\n",
       "      <td>1</td>\n",
       "      <td>1</td>\n",
       "      <td>6</td>\n",
       "      <td>7</td>\n",
       "      <td>106</td>\n",
       "    </tr>\n",
       "    <tr>\n",
       "      <th>2</th>\n",
       "      <td>335987</td>\n",
       "      <td>1</td>\n",
       "      <td>2</td>\n",
       "      <td>1</td>\n",
       "      <td>1</td>\n",
       "      <td>2</td>\n",
       "      <td>2</td>\n",
       "      <td>2</td>\n",
       "      <td>1</td>\n",
       "      <td>14</td>\n",
       "    </tr>\n",
       "    <tr>\n",
       "      <th>3</th>\n",
       "      <td>335987</td>\n",
       "      <td>1</td>\n",
       "      <td>2</td>\n",
       "      <td>2</td>\n",
       "      <td>2</td>\n",
       "      <td>1</td>\n",
       "      <td>2</td>\n",
       "      <td>7</td>\n",
       "      <td>6</td>\n",
       "      <td>106</td>\n",
       "    </tr>\n",
       "    <tr>\n",
       "      <th>4</th>\n",
       "      <td>335987</td>\n",
       "      <td>1</td>\n",
       "      <td>3</td>\n",
       "      <td>1</td>\n",
       "      <td>1</td>\n",
       "      <td>2</td>\n",
       "      <td>2</td>\n",
       "      <td>2</td>\n",
       "      <td>1</td>\n",
       "      <td>14</td>\n",
       "    </tr>\n",
       "    <tr>\n",
       "      <th>5</th>\n",
       "      <td>335987</td>\n",
       "      <td>1</td>\n",
       "      <td>3</td>\n",
       "      <td>2</td>\n",
       "      <td>2</td>\n",
       "      <td>1</td>\n",
       "      <td>2</td>\n",
       "      <td>7</td>\n",
       "      <td>6</td>\n",
       "      <td>106</td>\n",
       "    </tr>\n",
       "    <tr>\n",
       "      <th>6</th>\n",
       "      <td>335987</td>\n",
       "      <td>1</td>\n",
       "      <td>4</td>\n",
       "      <td>1</td>\n",
       "      <td>1</td>\n",
       "      <td>2</td>\n",
       "      <td>2</td>\n",
       "      <td>2</td>\n",
       "      <td>1</td>\n",
       "      <td>14</td>\n",
       "    </tr>\n",
       "    <tr>\n",
       "      <th>7</th>\n",
       "      <td>335987</td>\n",
       "      <td>1</td>\n",
       "      <td>4</td>\n",
       "      <td>2</td>\n",
       "      <td>2</td>\n",
       "      <td>1</td>\n",
       "      <td>2</td>\n",
       "      <td>7</td>\n",
       "      <td>6</td>\n",
       "      <td>106</td>\n",
       "    </tr>\n",
       "    <tr>\n",
       "      <th>8</th>\n",
       "      <td>335987</td>\n",
       "      <td>1</td>\n",
       "      <td>5</td>\n",
       "      <td>1</td>\n",
       "      <td>1</td>\n",
       "      <td>2</td>\n",
       "      <td>2</td>\n",
       "      <td>2</td>\n",
       "      <td>1</td>\n",
       "      <td>14</td>\n",
       "    </tr>\n",
       "    <tr>\n",
       "      <th>9</th>\n",
       "      <td>335987</td>\n",
       "      <td>1</td>\n",
       "      <td>5</td>\n",
       "      <td>2</td>\n",
       "      <td>2</td>\n",
       "      <td>1</td>\n",
       "      <td>1</td>\n",
       "      <td>6</td>\n",
       "      <td>7</td>\n",
       "      <td>106</td>\n",
       "    </tr>\n",
       "  </tbody>\n",
       "</table>\n",
       "</div>"
      ],
      "text/plain": [
       "   Match_Id  Over_Id  Ball_Id  Innings_No  Team_Batting  Team_Bowling  \\\n",
       "0    335987        1        1           1             1             2   \n",
       "1    335987        1        1           2             2             1   \n",
       "2    335987        1        2           1             1             2   \n",
       "3    335987        1        2           2             2             1   \n",
       "4    335987        1        3           1             1             2   \n",
       "5    335987        1        3           2             2             1   \n",
       "6    335987        1        4           1             1             2   \n",
       "7    335987        1        4           2             2             1   \n",
       "8    335987        1        5           1             1             2   \n",
       "9    335987        1        5           2             2             1   \n",
       "\n",
       "   Striker_Batting_Position  Striker  Non_Striker  Bowler  \n",
       "0                         1        1            2      14  \n",
       "1                         1        6            7     106  \n",
       "2                         2        2            1      14  \n",
       "3                         2        7            6     106  \n",
       "4                         2        2            1      14  \n",
       "5                         2        7            6     106  \n",
       "6                         2        2            1      14  \n",
       "7                         2        7            6     106  \n",
       "8                         2        2            1      14  \n",
       "9                         1        6            7     106  "
      ]
     },
     "execution_count": 56,
     "metadata": {},
     "output_type": "execute_result"
    }
   ],
   "source": [
    "ballByBall = pd.read_sql_query('select * from Ball_By_Ball limit 10;',conn)\n",
    "ballByBall"
   ]
  },
  {
   "cell_type": "markdown",
   "metadata": {},
   "source": [
    "Let's now combine the useful tables for figuring out the runs scored."
   ]
  },
  {
   "cell_type": "code",
   "execution_count": 133,
   "metadata": {},
   "outputs": [
    {
     "data": {
      "text/html": [
       "<div>\n",
       "<style scoped>\n",
       "    .dataframe tbody tr th:only-of-type {\n",
       "        vertical-align: middle;\n",
       "    }\n",
       "\n",
       "    .dataframe tbody tr th {\n",
       "        vertical-align: top;\n",
       "    }\n",
       "\n",
       "    .dataframe thead th {\n",
       "        text-align: right;\n",
       "    }\n",
       "</style>\n",
       "<table border=\"1\" class=\"dataframe\">\n",
       "  <thead>\n",
       "    <tr style=\"text-align: right;\">\n",
       "      <th></th>\n",
       "      <th>Match_Id</th>\n",
       "      <th>Over_Id</th>\n",
       "      <th>Ball_Id</th>\n",
       "      <th>Innings_No</th>\n",
       "      <th>Team_Batting</th>\n",
       "      <th>Team_Bowling</th>\n",
       "      <th>Striker_Batting_Position</th>\n",
       "      <th>Striker</th>\n",
       "      <th>Non_Striker</th>\n",
       "      <th>Bowler</th>\n",
       "      <th>...</th>\n",
       "      <th>Over_Id</th>\n",
       "      <th>Ball_Id</th>\n",
       "      <th>Runs_Scored</th>\n",
       "      <th>Innings_No</th>\n",
       "      <th>Player_Id</th>\n",
       "      <th>Player_Name</th>\n",
       "      <th>DOB</th>\n",
       "      <th>Batting_hand</th>\n",
       "      <th>Bowling_skill</th>\n",
       "      <th>Country_Name</th>\n",
       "    </tr>\n",
       "  </thead>\n",
       "  <tbody>\n",
       "    <tr>\n",
       "      <th>0</th>\n",
       "      <td>335987</td>\n",
       "      <td>1</td>\n",
       "      <td>1</td>\n",
       "      <td>1</td>\n",
       "      <td>1</td>\n",
       "      <td>2</td>\n",
       "      <td>1</td>\n",
       "      <td>1</td>\n",
       "      <td>2</td>\n",
       "      <td>14</td>\n",
       "      <td>...</td>\n",
       "      <td>1</td>\n",
       "      <td>1</td>\n",
       "      <td>0</td>\n",
       "      <td>1</td>\n",
       "      <td>1</td>\n",
       "      <td>SC Ganguly</td>\n",
       "      <td>1972-07-08 00:00:00</td>\n",
       "      <td>1</td>\n",
       "      <td>1.0</td>\n",
       "      <td>1</td>\n",
       "    </tr>\n",
       "    <tr>\n",
       "      <th>1</th>\n",
       "      <td>335987</td>\n",
       "      <td>1</td>\n",
       "      <td>1</td>\n",
       "      <td>1</td>\n",
       "      <td>1</td>\n",
       "      <td>2</td>\n",
       "      <td>1</td>\n",
       "      <td>1</td>\n",
       "      <td>2</td>\n",
       "      <td>14</td>\n",
       "      <td>...</td>\n",
       "      <td>1</td>\n",
       "      <td>1</td>\n",
       "      <td>1</td>\n",
       "      <td>2</td>\n",
       "      <td>1</td>\n",
       "      <td>SC Ganguly</td>\n",
       "      <td>1972-07-08 00:00:00</td>\n",
       "      <td>1</td>\n",
       "      <td>1.0</td>\n",
       "      <td>1</td>\n",
       "    </tr>\n",
       "    <tr>\n",
       "      <th>2</th>\n",
       "      <td>335987</td>\n",
       "      <td>1</td>\n",
       "      <td>1</td>\n",
       "      <td>2</td>\n",
       "      <td>2</td>\n",
       "      <td>1</td>\n",
       "      <td>1</td>\n",
       "      <td>6</td>\n",
       "      <td>7</td>\n",
       "      <td>106</td>\n",
       "      <td>...</td>\n",
       "      <td>1</td>\n",
       "      <td>1</td>\n",
       "      <td>0</td>\n",
       "      <td>1</td>\n",
       "      <td>6</td>\n",
       "      <td>R Dravid</td>\n",
       "      <td>1973-01-11 00:00:00</td>\n",
       "      <td>2</td>\n",
       "      <td>2.0</td>\n",
       "      <td>1</td>\n",
       "    </tr>\n",
       "    <tr>\n",
       "      <th>3</th>\n",
       "      <td>335987</td>\n",
       "      <td>1</td>\n",
       "      <td>1</td>\n",
       "      <td>2</td>\n",
       "      <td>2</td>\n",
       "      <td>1</td>\n",
       "      <td>1</td>\n",
       "      <td>6</td>\n",
       "      <td>7</td>\n",
       "      <td>106</td>\n",
       "      <td>...</td>\n",
       "      <td>1</td>\n",
       "      <td>1</td>\n",
       "      <td>1</td>\n",
       "      <td>2</td>\n",
       "      <td>6</td>\n",
       "      <td>R Dravid</td>\n",
       "      <td>1973-01-11 00:00:00</td>\n",
       "      <td>2</td>\n",
       "      <td>2.0</td>\n",
       "      <td>1</td>\n",
       "    </tr>\n",
       "    <tr>\n",
       "      <th>4</th>\n",
       "      <td>335987</td>\n",
       "      <td>1</td>\n",
       "      <td>2</td>\n",
       "      <td>1</td>\n",
       "      <td>1</td>\n",
       "      <td>2</td>\n",
       "      <td>2</td>\n",
       "      <td>2</td>\n",
       "      <td>1</td>\n",
       "      <td>14</td>\n",
       "      <td>...</td>\n",
       "      <td>1</td>\n",
       "      <td>2</td>\n",
       "      <td>0</td>\n",
       "      <td>1</td>\n",
       "      <td>2</td>\n",
       "      <td>BB McCullum</td>\n",
       "      <td>1981-09-27 00:00:00</td>\n",
       "      <td>2</td>\n",
       "      <td>1.0</td>\n",
       "      <td>4</td>\n",
       "    </tr>\n",
       "  </tbody>\n",
       "</table>\n",
       "<p>5 rows × 21 columns</p>\n",
       "</div>"
      ],
      "text/plain": [
       "   Match_Id  Over_Id  Ball_Id  Innings_No  Team_Batting  Team_Bowling  \\\n",
       "0    335987        1        1           1             1             2   \n",
       "1    335987        1        1           1             1             2   \n",
       "2    335987        1        1           2             2             1   \n",
       "3    335987        1        1           2             2             1   \n",
       "4    335987        1        2           1             1             2   \n",
       "\n",
       "   Striker_Batting_Position  Striker  Non_Striker  Bowler      ...       \\\n",
       "0                         1        1            2      14      ...        \n",
       "1                         1        1            2      14      ...        \n",
       "2                         1        6            7     106      ...        \n",
       "3                         1        6            7     106      ...        \n",
       "4                         2        2            1      14      ...        \n",
       "\n",
       "   Over_Id  Ball_Id  Runs_Scored  Innings_No  Player_Id  Player_Name  \\\n",
       "0        1        1            0           1          1   SC Ganguly   \n",
       "1        1        1            1           2          1   SC Ganguly   \n",
       "2        1        1            0           1          6     R Dravid   \n",
       "3        1        1            1           2          6     R Dravid   \n",
       "4        1        2            0           1          2  BB McCullum   \n",
       "\n",
       "                   DOB Batting_hand  Bowling_skill  Country_Name  \n",
       "0  1972-07-08 00:00:00            1            1.0             1  \n",
       "1  1972-07-08 00:00:00            1            1.0             1  \n",
       "2  1973-01-11 00:00:00            2            2.0             1  \n",
       "3  1973-01-11 00:00:00            2            2.0             1  \n",
       "4  1981-09-27 00:00:00            2            1.0             4  \n",
       "\n",
       "[5 rows x 21 columns]"
      ]
     },
     "execution_count": 133,
     "metadata": {},
     "output_type": "execute_result"
    }
   ],
   "source": [
    "fullDf = pd.read_sql_query(\"\"\"select *\n",
    "                               from Ball_By_Ball b\n",
    "                                   inner join Batsman_Scored s\n",
    "                                       on (b.Match_Id == s.Match_Id and b.Over_Id == s.Over_Id and b.Ball_Id == s.Ball_Id)\n",
    "                                   inner join Player p\n",
    "                                       on b.Striker == p.Player_Id\"\"\",conn)\n",
    "fullDf.head()"
   ]
  },
  {
   "cell_type": "code",
   "execution_count": 169,
   "metadata": {},
   "outputs": [
    {
     "name": "stdout",
     "output_type": "stream",
     "text": [
      "Player_Name\n",
      "R Vinay Kumar      5431\n",
      "A Mishra           5520\n",
      "P Kumar            5807\n",
      "PP Chawla          5873\n",
      "Harbhajan Singh    6119\n",
      "Name: Runs_Scored, dtype: int64\n"
     ]
    },
    {
     "data": {
      "text/plain": [
       "count     331.000000\n",
       "mean      969.616314\n",
       "std      1287.698605\n",
       "min         0.000000\n",
       "25%       131.000000\n",
       "50%       437.000000\n",
       "75%      1228.000000\n",
       "max      6119.000000\n",
       "Name: Runs_Scored, dtype: float64"
      ]
     },
     "execution_count": 169,
     "metadata": {},
     "output_type": "execute_result"
    }
   ],
   "source": [
    "runsScored = fullDf.groupby('Player_Name').Runs_Scored.sum()\n",
    "print(runsScored.sort_values().tail())\n",
    "runsScored.describe()"
   ]
  },
  {
   "cell_type": "markdown",
   "metadata": {},
   "source": [
    "Let's visualize the distribution of runs scored"
   ]
  },
  {
   "cell_type": "code",
   "execution_count": 168,
   "metadata": {},
   "outputs": [
    {
     "data": {
      "text/plain": [
       "<matplotlib.axes._subplots.AxesSubplot at 0x1a34b09ac8>"
      ]
     },
     "execution_count": 168,
     "metadata": {},
     "output_type": "execute_result"
    },
    {
     "data": {
      "image/png": "[encoded data removed]",
      "text/plain": [
       "<matplotlib.figure.Figure at 0x1a34b091d0>"
      ]
     },
     "metadata": {},
     "output_type": "display_data"
    }
   ],
   "source": [
    "sns.violinplot(x=runsScored)\n",
    "plt.xlabel('Runs Scored')"
   ]
  },
  {
   "cell_type": "markdown",
   "metadata": {},
   "source": [
    "Let's look at left versus right handed players"
   ]
  },
  {
   "cell_type": "code",
   "execution_count": 120,
   "metadata": {},
   "outputs": [
    {
     "data": {
      "text/html": [
       "<div>\n",
       "<style scoped>\n",
       "    .dataframe tbody tr th:only-of-type {\n",
       "        vertical-align: middle;\n",
       "    }\n",
       "\n",
       "    .dataframe tbody tr th {\n",
       "        vertical-align: top;\n",
       "    }\n",
       "\n",
       "    .dataframe thead th {\n",
       "        text-align: right;\n",
       "    }\n",
       "</style>\n",
       "<table border=\"1\" class=\"dataframe\">\n",
       "  <thead>\n",
       "    <tr style=\"text-align: right;\">\n",
       "      <th></th>\n",
       "      <th>Player_Name</th>\n",
       "      <th>Runs_Scored</th>\n",
       "      <th>Batting_hand</th>\n",
       "      <th>DOB</th>\n",
       "    </tr>\n",
       "  </thead>\n",
       "  <tbody>\n",
       "    <tr>\n",
       "      <th>0</th>\n",
       "      <td>A Ashish Reddy</td>\n",
       "      <td>524</td>\n",
       "      <td>right</td>\n",
       "      <td>1991-02-24 00:00:00</td>\n",
       "    </tr>\n",
       "    <tr>\n",
       "      <th>1</th>\n",
       "      <td>A Chandila</td>\n",
       "      <td>9</td>\n",
       "      <td>right</td>\n",
       "      <td>1983-12-05 00:00:00</td>\n",
       "    </tr>\n",
       "    <tr>\n",
       "      <th>2</th>\n",
       "      <td>A Chopra</td>\n",
       "      <td>123</td>\n",
       "      <td>right</td>\n",
       "      <td>1977-09-19 00:00:00</td>\n",
       "    </tr>\n",
       "    <tr>\n",
       "      <th>3</th>\n",
       "      <td>A Flintoff</td>\n",
       "      <td>114</td>\n",
       "      <td>right</td>\n",
       "      <td>1977-12-06 00:00:00</td>\n",
       "    </tr>\n",
       "    <tr>\n",
       "      <th>4</th>\n",
       "      <td>A Kumble</td>\n",
       "      <td>101</td>\n",
       "      <td>right</td>\n",
       "      <td>1970-10-17 00:00:00</td>\n",
       "    </tr>\n",
       "  </tbody>\n",
       "</table>\n",
       "</div>"
      ],
      "text/plain": [
       "      Player_Name  Runs_Scored Batting_hand                  DOB\n",
       "0  A Ashish Reddy          524        right  1991-02-24 00:00:00\n",
       "1      A Chandila            9        right  1983-12-05 00:00:00\n",
       "2        A Chopra          123        right  1977-09-19 00:00:00\n",
       "3      A Flintoff          114        right  1977-12-06 00:00:00\n",
       "4        A Kumble          101        right  1970-10-17 00:00:00"
      ]
     },
     "execution_count": 120,
     "metadata": {},
     "output_type": "execute_result"
    }
   ],
   "source": [
    "runsScored = runsScored.reset_index().merge(fullDf[['Player_Name','Batting_hand','DOB']].drop_duplicates(),how='left',on='Player_Name')\n",
    "runsScored.Batting_hand.replace({1:'left', 2:'right'}, inplace=True)\n",
    "runsScored.Batting_hand = runsScored.Batting_hand.astype('category')\n",
    "runsScored.head()"
   ]
  },
  {
   "cell_type": "code",
   "execution_count": 264,
   "metadata": {},
   "outputs": [
    {
     "ename": "ValueError",
     "evalue": "Could not interpret input 'Batting_hand'",
     "output_type": "error",
     "traceback": [
      "\u001b[0;31m---------------------------------------------------------------------------\u001b[0m",
      "\u001b[0;31mValueError\u001b[0m                                Traceback (most recent call last)",
      "\u001b[0;32m<ipython-input-264-73576e975e5a>\u001b[0m in \u001b[0;36m<module>\u001b[0;34m()\u001b[0m\n\u001b[0;32m----> 1\u001b[0;31m \u001b[0msns\u001b[0m\u001b[0;34m.\u001b[0m\u001b[0mviolinplot\u001b[0m\u001b[0;34m(\u001b[0m\u001b[0mx\u001b[0m\u001b[0;34m=\u001b[0m\u001b[0;34m'Batting_hand'\u001b[0m\u001b[0;34m,\u001b[0m \u001b[0my\u001b[0m\u001b[0;34m=\u001b[0m\u001b[0;34m'Runs_Scored'\u001b[0m\u001b[0;34m,\u001b[0m \u001b[0mdata\u001b[0m\u001b[0;34m=\u001b[0m\u001b[0mrunsScored\u001b[0m\u001b[0;34m,\u001b[0m \u001b[0mpalette\u001b[0m\u001b[0;34m=\u001b[0m\u001b[0;34m'muted'\u001b[0m\u001b[0;34m,\u001b[0m \u001b[0msplit\u001b[0m\u001b[0;34m=\u001b[0m\u001b[0;32mTrue\u001b[0m\u001b[0;34m,\u001b[0m \u001b[0mscale\u001b[0m\u001b[0;34m=\u001b[0m\u001b[0;34m'count'\u001b[0m\u001b[0;34m)\u001b[0m\u001b[0;34m\u001b[0m\u001b[0m\n\u001b[0m\u001b[1;32m      2\u001b[0m \u001b[0mplt\u001b[0m\u001b[0;34m.\u001b[0m\u001b[0mxlabel\u001b[0m\u001b[0;34m(\u001b[0m\u001b[0;34m'Batting Hand'\u001b[0m\u001b[0;34m)\u001b[0m\u001b[0;34m\u001b[0m\u001b[0m\n\u001b[1;32m      3\u001b[0m \u001b[0mplt\u001b[0m\u001b[0;34m.\u001b[0m\u001b[0mylabel\u001b[0m\u001b[0;34m(\u001b[0m\u001b[0;34m'Runs Scored'\u001b[0m\u001b[0;34m)\u001b[0m\u001b[0;34m\u001b[0m\u001b[0m\n",
      "\u001b[0;32m/anaconda/lib/python3.6/site-packages/seaborn/categorical.py\u001b[0m in \u001b[0;36mviolinplot\u001b[0;34m(x, y, hue, data, order, hue_order, bw, cut, scale, scale_hue, gridsize, width, inner, split, dodge, orient, linewidth, color, palette, saturation, ax, **kwargs)\u001b[0m\n\u001b[1;32m   2385\u001b[0m                              \u001b[0mbw\u001b[0m\u001b[0;34m,\u001b[0m \u001b[0mcut\u001b[0m\u001b[0;34m,\u001b[0m \u001b[0mscale\u001b[0m\u001b[0;34m,\u001b[0m \u001b[0mscale_hue\u001b[0m\u001b[0;34m,\u001b[0m \u001b[0mgridsize\u001b[0m\u001b[0;34m,\u001b[0m\u001b[0;34m\u001b[0m\u001b[0m\n\u001b[1;32m   2386\u001b[0m                              \u001b[0mwidth\u001b[0m\u001b[0;34m,\u001b[0m \u001b[0minner\u001b[0m\u001b[0;34m,\u001b[0m \u001b[0msplit\u001b[0m\u001b[0;34m,\u001b[0m \u001b[0mdodge\u001b[0m\u001b[0;34m,\u001b[0m \u001b[0morient\u001b[0m\u001b[0;34m,\u001b[0m \u001b[0mlinewidth\u001b[0m\u001b[0;34m,\u001b[0m\u001b[0;34m\u001b[0m\u001b[0m\n\u001b[0;32m-> 2387\u001b[0;31m                              color, palette, saturation)\n\u001b[0m\u001b[1;32m   2388\u001b[0m \u001b[0;34m\u001b[0m\u001b[0m\n\u001b[1;32m   2389\u001b[0m     \u001b[0;32mif\u001b[0m \u001b[0max\u001b[0m \u001b[0;32mis\u001b[0m \u001b[0;32mNone\u001b[0m\u001b[0;34m:\u001b[0m\u001b[0;34m\u001b[0m\u001b[0m\n",
      "\u001b[0;32m/anaconda/lib/python3.6/site-packages/seaborn/categorical.py\u001b[0m in \u001b[0;36m__init__\u001b[0;34m(self, x, y, hue, data, order, hue_order, bw, cut, scale, scale_hue, gridsize, width, inner, split, dodge, orient, linewidth, color, palette, saturation)\u001b[0m\n\u001b[1;32m    560\u001b[0m                  color, palette, saturation):\n\u001b[1;32m    561\u001b[0m \u001b[0;34m\u001b[0m\u001b[0m\n\u001b[0;32m--> 562\u001b[0;31m         \u001b[0mself\u001b[0m\u001b[0;34m.\u001b[0m\u001b[0mestablish_variables\u001b[0m\u001b[0;34m(\u001b[0m\u001b[0mx\u001b[0m\u001b[0;34m,\u001b[0m \u001b[0my\u001b[0m\u001b[0;34m,\u001b[0m \u001b[0mhue\u001b[0m\u001b[0;34m,\u001b[0m \u001b[0mdata\u001b[0m\u001b[0;34m,\u001b[0m \u001b[0morient\u001b[0m\u001b[0;34m,\u001b[0m \u001b[0morder\u001b[0m\u001b[0;34m,\u001b[0m \u001b[0mhue_order\u001b[0m\u001b[0;34m)\u001b[0m\u001b[0;34m\u001b[0m\u001b[0m\n\u001b[0m\u001b[1;32m    563\u001b[0m         \u001b[0mself\u001b[0m\u001b[0;34m.\u001b[0m\u001b[0mestablish_colors\u001b[0m\u001b[0;34m(\u001b[0m\u001b[0mcolor\u001b[0m\u001b[0;34m,\u001b[0m \u001b[0mpalette\u001b[0m\u001b[0;34m,\u001b[0m \u001b[0msaturation\u001b[0m\u001b[0;34m)\u001b[0m\u001b[0;34m\u001b[0m\u001b[0m\n\u001b[1;32m    564\u001b[0m         \u001b[0mself\u001b[0m\u001b[0;34m.\u001b[0m\u001b[0mestimate_densities\u001b[0m\u001b[0;34m(\u001b[0m\u001b[0mbw\u001b[0m\u001b[0;34m,\u001b[0m \u001b[0mcut\u001b[0m\u001b[0;34m,\u001b[0m \u001b[0mscale\u001b[0m\u001b[0;34m,\u001b[0m \u001b[0mscale_hue\u001b[0m\u001b[0;34m,\u001b[0m \u001b[0mgridsize\u001b[0m\u001b[0;34m)\u001b[0m\u001b[0;34m\u001b[0m\u001b[0m\n",
      "\u001b[0;32m/anaconda/lib/python3.6/site-packages/seaborn/categorical.py\u001b[0m in \u001b[0;36mestablish_variables\u001b[0;34m(self, x, y, hue, data, orient, order, hue_order, units)\u001b[0m\n\u001b[1;32m    153\u001b[0m                 \u001b[0;32mif\u001b[0m \u001b[0misinstance\u001b[0m\u001b[0;34m(\u001b[0m\u001b[0minput\u001b[0m\u001b[0;34m,\u001b[0m \u001b[0mstring_types\u001b[0m\u001b[0;34m)\u001b[0m\u001b[0;34m:\u001b[0m\u001b[0;34m\u001b[0m\u001b[0m\n\u001b[1;32m    154\u001b[0m                     \u001b[0merr\u001b[0m \u001b[0;34m=\u001b[0m \u001b[0;34m\"Could not interpret input '{}'\"\u001b[0m\u001b[0;34m.\u001b[0m\u001b[0mformat\u001b[0m\u001b[0;34m(\u001b[0m\u001b[0minput\u001b[0m\u001b[0;34m)\u001b[0m\u001b[0;34m\u001b[0m\u001b[0m\n\u001b[0;32m--> 155\u001b[0;31m                     \u001b[0;32mraise\u001b[0m \u001b[0mValueError\u001b[0m\u001b[0;34m(\u001b[0m\u001b[0merr\u001b[0m\u001b[0;34m)\u001b[0m\u001b[0;34m\u001b[0m\u001b[0m\n\u001b[0m\u001b[1;32m    156\u001b[0m \u001b[0;34m\u001b[0m\u001b[0m\n\u001b[1;32m    157\u001b[0m             \u001b[0;31m# Figure out the plotting orientation\u001b[0m\u001b[0;34m\u001b[0m\u001b[0;34m\u001b[0m\u001b[0m\n",
      "\u001b[0;31mValueError\u001b[0m: Could not interpret input 'Batting_hand'"
     ]
    }
   ],
   "source": [
    "sns.violinplot(x='Batting_hand', y='Runs_Scored', data=runsScored, palette='muted', split=True, scale='count')\n",
    "plt.xlabel('Batting Hand')\n",
    "plt.ylabel('Runs Scored')"
   ]
  },
  {
   "cell_type": "markdown",
   "metadata": {},
   "source": [
    "Now let's look by date of birth"
   ]
  },
  {
   "cell_type": "code",
   "execution_count": 170,
   "metadata": {},
   "outputs": [
    {
     "ename": "AttributeError",
     "evalue": "'Series' object has no attribute 'DOB'",
     "output_type": "error",
     "traceback": [
      "\u001b[0;31m---------------------------------------------------------------------------\u001b[0m",
      "\u001b[0;31mAttributeError\u001b[0m                            Traceback (most recent call last)",
      "\u001b[0;32m<ipython-input-170-b1c3a736b8f7>\u001b[0m in \u001b[0;36m<module>\u001b[0;34m()\u001b[0m\n\u001b[0;32m----> 1\u001b[0;31m \u001b[0mrunsScored\u001b[0m\u001b[0;34m[\u001b[0m\u001b[0;34m'bYear'\u001b[0m\u001b[0;34m]\u001b[0m \u001b[0;34m=\u001b[0m \u001b[0mpd\u001b[0m\u001b[0;34m.\u001b[0m\u001b[0mto_datetime\u001b[0m\u001b[0;34m(\u001b[0m\u001b[0mrunsScored\u001b[0m\u001b[0;34m.\u001b[0m\u001b[0mDOB\u001b[0m\u001b[0;34m)\u001b[0m\u001b[0;34m.\u001b[0m\u001b[0mdt\u001b[0m\u001b[0;34m.\u001b[0m\u001b[0myear\u001b[0m\u001b[0;34m\u001b[0m\u001b[0m\n\u001b[0m\u001b[1;32m      2\u001b[0m \u001b[0mprint\u001b[0m\u001b[0;34m(\u001b[0m\u001b[0mrunsScored\u001b[0m\u001b[0;34m.\u001b[0m\u001b[0mbYear\u001b[0m\u001b[0;34m.\u001b[0m\u001b[0mdescribe\u001b[0m\u001b[0;34m(\u001b[0m\u001b[0;34m)\u001b[0m\u001b[0;34m)\u001b[0m\u001b[0;34m\u001b[0m\u001b[0m\n\u001b[1;32m      3\u001b[0m \u001b[0msns\u001b[0m\u001b[0;34m.\u001b[0m\u001b[0mlmplot\u001b[0m\u001b[0;34m(\u001b[0m\u001b[0mx\u001b[0m\u001b[0;34m=\u001b[0m\u001b[0;34m'bYear'\u001b[0m\u001b[0;34m,\u001b[0m \u001b[0my\u001b[0m\u001b[0;34m=\u001b[0m\u001b[0;34m'Runs_Scored'\u001b[0m\u001b[0;34m,\u001b[0m \u001b[0mdata\u001b[0m\u001b[0;34m=\u001b[0m\u001b[0mrunsScored\u001b[0m\u001b[0;34m)\u001b[0m\u001b[0;34m\u001b[0m\u001b[0m\n",
      "\u001b[0;32m/anaconda/lib/python3.6/site-packages/pandas/core/generic.py\u001b[0m in \u001b[0;36m__getattr__\u001b[0;34m(self, name)\u001b[0m\n\u001b[1;32m   3612\u001b[0m             \u001b[0;32mif\u001b[0m \u001b[0mname\u001b[0m \u001b[0;32min\u001b[0m \u001b[0mself\u001b[0m\u001b[0;34m.\u001b[0m\u001b[0m_info_axis\u001b[0m\u001b[0;34m:\u001b[0m\u001b[0;34m\u001b[0m\u001b[0m\n\u001b[1;32m   3613\u001b[0m                 \u001b[0;32mreturn\u001b[0m \u001b[0mself\u001b[0m\u001b[0;34m[\u001b[0m\u001b[0mname\u001b[0m\u001b[0;34m]\u001b[0m\u001b[0;34m\u001b[0m\u001b[0m\n\u001b[0;32m-> 3614\u001b[0;31m             \u001b[0;32mreturn\u001b[0m \u001b[0mobject\u001b[0m\u001b[0;34m.\u001b[0m\u001b[0m__getattribute__\u001b[0m\u001b[0;34m(\u001b[0m\u001b[0mself\u001b[0m\u001b[0;34m,\u001b[0m \u001b[0mname\u001b[0m\u001b[0;34m)\u001b[0m\u001b[0;34m\u001b[0m\u001b[0m\n\u001b[0m\u001b[1;32m   3615\u001b[0m \u001b[0;34m\u001b[0m\u001b[0m\n\u001b[1;32m   3616\u001b[0m     \u001b[0;32mdef\u001b[0m \u001b[0m__setattr__\u001b[0m\u001b[0;34m(\u001b[0m\u001b[0mself\u001b[0m\u001b[0;34m,\u001b[0m \u001b[0mname\u001b[0m\u001b[0;34m,\u001b[0m \u001b[0mvalue\u001b[0m\u001b[0;34m)\u001b[0m\u001b[0;34m:\u001b[0m\u001b[0;34m\u001b[0m\u001b[0m\n",
      "\u001b[0;31mAttributeError\u001b[0m: 'Series' object has no attribute 'DOB'"
     ]
    }
   ],
   "source": [
    "runsScored['bYear'] = pd.to_datetime(runsScored.DOB).dt.year\n",
    "print(runsScored.bYear.describe())\n",
    "sns.lmplot(x='bYear', y='Runs_Scored', data=runsScored)"
   ]
  },
  {
   "cell_type": "markdown",
   "metadata": {},
   "source": [
    "Now let's look at bowling statistics"
   ]
  },
  {
   "cell_type": "code",
   "execution_count": 136,
   "metadata": {},
   "outputs": [
    {
     "data": {
      "text/html": [
       "<div>\n",
       "<style scoped>\n",
       "    .dataframe tbody tr th:only-of-type {\n",
       "        vertical-align: middle;\n",
       "    }\n",
       "\n",
       "    .dataframe tbody tr th {\n",
       "        vertical-align: top;\n",
       "    }\n",
       "\n",
       "    .dataframe thead th {\n",
       "        text-align: right;\n",
       "    }\n",
       "</style>\n",
       "<table border=\"1\" class=\"dataframe\">\n",
       "  <thead>\n",
       "    <tr style=\"text-align: right;\">\n",
       "      <th></th>\n",
       "      <th>Match_Id</th>\n",
       "      <th>Over_Id</th>\n",
       "      <th>Ball_Id</th>\n",
       "      <th>Innings_No</th>\n",
       "      <th>Team_Batting</th>\n",
       "      <th>Team_Bowling</th>\n",
       "      <th>Striker_Batting_Position</th>\n",
       "      <th>Striker</th>\n",
       "      <th>Non_Striker</th>\n",
       "      <th>Bowler</th>\n",
       "      <th>...</th>\n",
       "      <th>Over_Id</th>\n",
       "      <th>Ball_Id</th>\n",
       "      <th>Runs_Scored</th>\n",
       "      <th>Innings_No</th>\n",
       "      <th>Player_Id</th>\n",
       "      <th>Player_Name</th>\n",
       "      <th>DOB</th>\n",
       "      <th>Batting_hand</th>\n",
       "      <th>Bowling_skill</th>\n",
       "      <th>Country_Name</th>\n",
       "    </tr>\n",
       "  </thead>\n",
       "  <tbody>\n",
       "    <tr>\n",
       "      <th>0</th>\n",
       "      <td>335987</td>\n",
       "      <td>1</td>\n",
       "      <td>1</td>\n",
       "      <td>1</td>\n",
       "      <td>1</td>\n",
       "      <td>2</td>\n",
       "      <td>1</td>\n",
       "      <td>1</td>\n",
       "      <td>2</td>\n",
       "      <td>14</td>\n",
       "      <td>...</td>\n",
       "      <td>1</td>\n",
       "      <td>1</td>\n",
       "      <td>0</td>\n",
       "      <td>1</td>\n",
       "      <td>14</td>\n",
       "      <td>P Kumar</td>\n",
       "      <td>1986-10-02 00:00:00</td>\n",
       "      <td>2</td>\n",
       "      <td>1.0</td>\n",
       "      <td>1</td>\n",
       "    </tr>\n",
       "    <tr>\n",
       "      <th>1</th>\n",
       "      <td>335987</td>\n",
       "      <td>1</td>\n",
       "      <td>1</td>\n",
       "      <td>1</td>\n",
       "      <td>1</td>\n",
       "      <td>2</td>\n",
       "      <td>1</td>\n",
       "      <td>1</td>\n",
       "      <td>2</td>\n",
       "      <td>14</td>\n",
       "      <td>...</td>\n",
       "      <td>1</td>\n",
       "      <td>1</td>\n",
       "      <td>1</td>\n",
       "      <td>2</td>\n",
       "      <td>14</td>\n",
       "      <td>P Kumar</td>\n",
       "      <td>1986-10-02 00:00:00</td>\n",
       "      <td>2</td>\n",
       "      <td>1.0</td>\n",
       "      <td>1</td>\n",
       "    </tr>\n",
       "    <tr>\n",
       "      <th>2</th>\n",
       "      <td>335987</td>\n",
       "      <td>1</td>\n",
       "      <td>1</td>\n",
       "      <td>2</td>\n",
       "      <td>2</td>\n",
       "      <td>1</td>\n",
       "      <td>1</td>\n",
       "      <td>6</td>\n",
       "      <td>7</td>\n",
       "      <td>106</td>\n",
       "      <td>...</td>\n",
       "      <td>1</td>\n",
       "      <td>1</td>\n",
       "      <td>0</td>\n",
       "      <td>1</td>\n",
       "      <td>106</td>\n",
       "      <td>AB Dinda</td>\n",
       "      <td>1984-03-25 00:00:00</td>\n",
       "      <td>2</td>\n",
       "      <td>5.0</td>\n",
       "      <td>1</td>\n",
       "    </tr>\n",
       "    <tr>\n",
       "      <th>3</th>\n",
       "      <td>335987</td>\n",
       "      <td>1</td>\n",
       "      <td>1</td>\n",
       "      <td>2</td>\n",
       "      <td>2</td>\n",
       "      <td>1</td>\n",
       "      <td>1</td>\n",
       "      <td>6</td>\n",
       "      <td>7</td>\n",
       "      <td>106</td>\n",
       "      <td>...</td>\n",
       "      <td>1</td>\n",
       "      <td>1</td>\n",
       "      <td>1</td>\n",
       "      <td>2</td>\n",
       "      <td>106</td>\n",
       "      <td>AB Dinda</td>\n",
       "      <td>1984-03-25 00:00:00</td>\n",
       "      <td>2</td>\n",
       "      <td>5.0</td>\n",
       "      <td>1</td>\n",
       "    </tr>\n",
       "    <tr>\n",
       "      <th>4</th>\n",
       "      <td>335987</td>\n",
       "      <td>1</td>\n",
       "      <td>2</td>\n",
       "      <td>1</td>\n",
       "      <td>1</td>\n",
       "      <td>2</td>\n",
       "      <td>2</td>\n",
       "      <td>2</td>\n",
       "      <td>1</td>\n",
       "      <td>14</td>\n",
       "      <td>...</td>\n",
       "      <td>1</td>\n",
       "      <td>2</td>\n",
       "      <td>0</td>\n",
       "      <td>1</td>\n",
       "      <td>14</td>\n",
       "      <td>P Kumar</td>\n",
       "      <td>1986-10-02 00:00:00</td>\n",
       "      <td>2</td>\n",
       "      <td>1.0</td>\n",
       "      <td>1</td>\n",
       "    </tr>\n",
       "  </tbody>\n",
       "</table>\n",
       "<p>5 rows × 21 columns</p>\n",
       "</div>"
      ],
      "text/plain": [
       "   Match_Id  Over_Id  Ball_Id  Innings_No  Team_Batting  Team_Bowling  \\\n",
       "0    335987        1        1           1             1             2   \n",
       "1    335987        1        1           1             1             2   \n",
       "2    335987        1        1           2             2             1   \n",
       "3    335987        1        1           2             2             1   \n",
       "4    335987        1        2           1             1             2   \n",
       "\n",
       "   Striker_Batting_Position  Striker  Non_Striker  Bowler      ...       \\\n",
       "0                         1        1            2      14      ...        \n",
       "1                         1        1            2      14      ...        \n",
       "2                         1        6            7     106      ...        \n",
       "3                         1        6            7     106      ...        \n",
       "4                         2        2            1      14      ...        \n",
       "\n",
       "   Over_Id  Ball_Id  Runs_Scored  Innings_No  Player_Id  Player_Name  \\\n",
       "0        1        1            0           1         14      P Kumar   \n",
       "1        1        1            1           2         14      P Kumar   \n",
       "2        1        1            0           1        106     AB Dinda   \n",
       "3        1        1            1           2        106     AB Dinda   \n",
       "4        1        2            0           1         14      P Kumar   \n",
       "\n",
       "                   DOB Batting_hand  Bowling_skill  Country_Name  \n",
       "0  1986-10-02 00:00:00            2            1.0             1  \n",
       "1  1986-10-02 00:00:00            2            1.0             1  \n",
       "2  1984-03-25 00:00:00            2            5.0             1  \n",
       "3  1984-03-25 00:00:00            2            5.0             1  \n",
       "4  1986-10-02 00:00:00            2            1.0             1  \n",
       "\n",
       "[5 rows x 21 columns]"
      ]
     },
     "execution_count": 136,
     "metadata": {},
     "output_type": "execute_result"
    }
   ],
   "source": [
    "fullDf = pd.read_sql_query(\"\"\"select *\n",
    "                               from Ball_By_Ball b\n",
    "                                   inner join Batsman_Scored s\n",
    "                                       on (b.Match_Id == s.Match_Id and b.Over_Id == s.Over_Id and b.Ball_Id == s.Ball_Id)\n",
    "                                   inner join Player p\n",
    "                                       on b.Bowler == p.Player_Id\"\"\",conn)\n",
    "fullDf.head()"
   ]
  },
  {
   "cell_type": "code",
   "execution_count": 149,
   "metadata": {},
   "outputs": [
    {
     "data": {
      "text/plain": [
       "array([[ 1.       , -0.0087854],\n",
       "       [-0.0087854,  1.       ]])"
      ]
     },
     "execution_count": 149,
     "metadata": {},
     "output_type": "execute_result"
    }
   ],
   "source": [
    "from sklearn.preprocessing import StandardScaler\n",
    "skill = StandardScaler().fit_transform(fullDf[['Runs_Scored','Bowling_skill']].dropna())\n",
    "np.corrcoef(skill[:,0],skill[:,1])"
   ]
  },
  {
   "cell_type": "markdown",
   "metadata": {},
   "source": [
    "# UK Carbon Levels and Weather"
   ]
  },
  {
   "cell_type": "markdown",
   "metadata": {},
   "source": [
    "We're going to take a look at carbon levels in the UK next to show the use of an api."
   ]
  },
  {
   "cell_type": "code",
   "execution_count": 183,
   "metadata": {},
   "outputs": [],
   "source": [
    "dates = pd.date_range(start='1/1/2018',end='9/30/2018')\n",
    "jsons = []\n",
    "for i in dates.values:\n",
    "    jsons.append(requests.get('https://api.carbonintensity.org.uk/intensity/date/{}'.format(i), headers={'Accept': 'application/json'}))\n",
    "jsons[0].json()"
   ]
  },
  {
   "cell_type": "markdown",
   "metadata": {},
   "source": [
    "Let's also grab weather data."
   ]
  },
  {
   "cell_type": "code",
   "execution_count": 198,
   "metadata": {},
   "outputs": [],
   "source": [
    "weatherJsons = []\n",
    "for i in zip(dates.year,dates.month,dates.day):\n",
    "    weatherJsons.append(requests.get('https://www.metaweather.com/api/location/44418/{}/{}/{}'.format(i[0],i[1],i[2])))\n",
    "weatherJsons[0].json()"
   ]
  },
  {
   "cell_type": "markdown",
   "metadata": {},
   "source": [
    "If both json lists are the same lists, we can just zip them together and get the correct dates."
   ]
  },
  {
   "cell_type": "code",
   "execution_count": 203,
   "metadata": {},
   "outputs": [
    {
     "name": "stdout",
     "output_type": "stream",
     "text": [
      "273 273 273\n"
     ]
    }
   ],
   "source": [
    "print(len(jsons), len(weatherJsons), len(dates))"
   ]
  },
  {
   "cell_type": "code",
   "execution_count": 213,
   "metadata": {},
   "outputs": [],
   "source": [
    "joinedJsons = zip(jsons,weatherJsons)"
   ]
  },
  {
   "cell_type": "markdown",
   "metadata": {},
   "source": [
    "Let's look at some descriptive stats for both carbon and weather. But first, we need to create the dataframe."
   ]
  },
  {
   "cell_type": "code",
   "execution_count": 214,
   "metadata": {},
   "outputs": [],
   "source": [
    "uk_df = []\n",
    "for day in joinedJsons:\n",
    "    row = []\n",
    "    \n",
    "    actuals = []\n",
    "    forecasts = []\n",
    "    for period in day[0].json()['data']: #Simplify the json by getting the mean values for each day\n",
    "        actuals.append(period['intensity']['actual'])\n",
    "        forecasts.append(period['intensity']['forecast'])\n",
    "    row.append(np.mean(actuals))\n",
    "    row.append(np.mean(forecasts))\n",
    "    \n",
    "    for var in ['max_temp','min_temp','the_temp','visibility', 'weather_state_name','humidity']: #choose some daily stats\n",
    "        row.append(day[1].json()[0][var]) #Only grab the last forecast so it's not super complicated.\n",
    "    \n",
    "    uk_df.append(row)\n",
    "\n",
    "uk_df = pd.DataFrame(uk_df, columns=['actualCarbon','forecastCarbon','maxTemp','minTemp','temp','visibility','weather_state_name','humidity'])\n",
    "uk_df.index = dates\n"
   ]
  },
  {
   "cell_type": "markdown",
   "metadata": {},
   "source": [
    "Next, let's visualize these correlations."
   ]
  },
  {
   "cell_type": "code",
   "execution_count": 216,
   "metadata": {},
   "outputs": [
    {
     "data": {
      "text/html": [
       "<div>\n",
       "<style scoped>\n",
       "    .dataframe tbody tr th:only-of-type {\n",
       "        vertical-align: middle;\n",
       "    }\n",
       "\n",
       "    .dataframe tbody tr th {\n",
       "        vertical-align: top;\n",
       "    }\n",
       "\n",
       "    .dataframe thead th {\n",
       "        text-align: right;\n",
       "    }\n",
       "</style>\n",
       "<table border=\"1\" class=\"dataframe\">\n",
       "  <thead>\n",
       "    <tr style=\"text-align: right;\">\n",
       "      <th></th>\n",
       "      <th>actualCarbon</th>\n",
       "      <th>forecastCarbon</th>\n",
       "      <th>maxTemp</th>\n",
       "      <th>minTemp</th>\n",
       "      <th>temp</th>\n",
       "      <th>visibility</th>\n",
       "      <th>weather_state_name</th>\n",
       "      <th>humidity</th>\n",
       "    </tr>\n",
       "  </thead>\n",
       "  <tbody>\n",
       "    <tr>\n",
       "      <th>2018-01-01</th>\n",
       "      <td>205.604167</td>\n",
       "      <td>180.875000</td>\n",
       "      <td>7.494</td>\n",
       "      <td>4.740</td>\n",
       "      <td>7.580</td>\n",
       "      <td>7.731722</td>\n",
       "      <td>Heavy Cloud</td>\n",
       "      <td>80</td>\n",
       "    </tr>\n",
       "    <tr>\n",
       "      <th>2018-01-02</th>\n",
       "      <td>250.875000</td>\n",
       "      <td>274.208333</td>\n",
       "      <td>11.436</td>\n",
       "      <td>6.152</td>\n",
       "      <td>10.015</td>\n",
       "      <td>5.095244</td>\n",
       "      <td>Light Rain</td>\n",
       "      <td>88</td>\n",
       "    </tr>\n",
       "    <tr>\n",
       "      <th>2018-01-03</th>\n",
       "      <td>219.312500</td>\n",
       "      <td>247.583333</td>\n",
       "      <td>10.586</td>\n",
       "      <td>6.956</td>\n",
       "      <td>9.345</td>\n",
       "      <td>7.833005</td>\n",
       "      <td>Showers</td>\n",
       "      <td>64</td>\n",
       "    </tr>\n",
       "    <tr>\n",
       "      <th>2018-01-04</th>\n",
       "      <td>283.291667</td>\n",
       "      <td>293.062500</td>\n",
       "      <td>10.586</td>\n",
       "      <td>5.712</td>\n",
       "      <td>9.915</td>\n",
       "      <td>6.448590</td>\n",
       "      <td>Showers</td>\n",
       "      <td>77</td>\n",
       "    </tr>\n",
       "    <tr>\n",
       "      <th>2018-01-05</th>\n",
       "      <td>345.062500</td>\n",
       "      <td>309.812500</td>\n",
       "      <td>7.292</td>\n",
       "      <td>2.444</td>\n",
       "      <td>6.100</td>\n",
       "      <td>11.243090</td>\n",
       "      <td>Showers</td>\n",
       "      <td>84</td>\n",
       "    </tr>\n",
       "  </tbody>\n",
       "</table>\n",
       "</div>"
      ],
      "text/plain": [
       "            actualCarbon  forecastCarbon  maxTemp  minTemp    temp  \\\n",
       "2018-01-01    205.604167      180.875000    7.494    4.740   7.580   \n",
       "2018-01-02    250.875000      274.208333   11.436    6.152  10.015   \n",
       "2018-01-03    219.312500      247.583333   10.586    6.956   9.345   \n",
       "2018-01-04    283.291667      293.062500   10.586    5.712   9.915   \n",
       "2018-01-05    345.062500      309.812500    7.292    2.444   6.100   \n",
       "\n",
       "            visibility weather_state_name  humidity  \n",
       "2018-01-01    7.731722        Heavy Cloud        80  \n",
       "2018-01-02    5.095244         Light Rain        88  \n",
       "2018-01-03    7.833005            Showers        64  \n",
       "2018-01-04    6.448590            Showers        77  \n",
       "2018-01-05   11.243090            Showers        84  "
      ]
     },
     "execution_count": 216,
     "metadata": {},
     "output_type": "execute_result"
    }
   ],
   "source": [
    "uk_df.head()"
   ]
  },
  {
   "cell_type": "code",
   "execution_count": 217,
   "metadata": {},
   "outputs": [
    {
     "data": {
      "text/html": [
       "<div>\n",
       "<style scoped>\n",
       "    .dataframe tbody tr th:only-of-type {\n",
       "        vertical-align: middle;\n",
       "    }\n",
       "\n",
       "    .dataframe tbody tr th {\n",
       "        vertical-align: top;\n",
       "    }\n",
       "\n",
       "    .dataframe thead th {\n",
       "        text-align: right;\n",
       "    }\n",
       "</style>\n",
       "<table border=\"1\" class=\"dataframe\">\n",
       "  <thead>\n",
       "    <tr style=\"text-align: right;\">\n",
       "      <th></th>\n",
       "      <th>actualCarbon</th>\n",
       "      <th>forecastCarbon</th>\n",
       "      <th>maxTemp</th>\n",
       "      <th>minTemp</th>\n",
       "      <th>temp</th>\n",
       "      <th>visibility</th>\n",
       "      <th>humidity</th>\n",
       "    </tr>\n",
       "  </thead>\n",
       "  <tbody>\n",
       "    <tr>\n",
       "      <th>count</th>\n",
       "      <td>273.000000</td>\n",
       "      <td>273.000000</td>\n",
       "      <td>273.000000</td>\n",
       "      <td>273.000000</td>\n",
       "      <td>273.000000</td>\n",
       "      <td>273.000000</td>\n",
       "      <td>273.000000</td>\n",
       "    </tr>\n",
       "    <tr>\n",
       "      <th>mean</th>\n",
       "      <td>248.404483</td>\n",
       "      <td>238.338091</td>\n",
       "      <td>16.251861</td>\n",
       "      <td>9.326029</td>\n",
       "      <td>15.510824</td>\n",
       "      <td>8.104013</td>\n",
       "      <td>67.520147</td>\n",
       "    </tr>\n",
       "    <tr>\n",
       "      <th>std</th>\n",
       "      <td>56.811099</td>\n",
       "      <td>54.858057</td>\n",
       "      <td>7.563434</td>\n",
       "      <td>5.581742</td>\n",
       "      <td>7.702225</td>\n",
       "      <td>2.313617</td>\n",
       "      <td>13.712400</td>\n",
       "    </tr>\n",
       "    <tr>\n",
       "      <th>min</th>\n",
       "      <td>128.854167</td>\n",
       "      <td>136.395833</td>\n",
       "      <td>-2.137500</td>\n",
       "      <td>-4.688000</td>\n",
       "      <td>-2.675000</td>\n",
       "      <td>1.713120</td>\n",
       "      <td>36.000000</td>\n",
       "    </tr>\n",
       "    <tr>\n",
       "      <th>25%</th>\n",
       "      <td>211.166667</td>\n",
       "      <td>202.125000</td>\n",
       "      <td>9.750000</td>\n",
       "      <td>4.802000</td>\n",
       "      <td>8.755000</td>\n",
       "      <td>6.541796</td>\n",
       "      <td>56.000000</td>\n",
       "    </tr>\n",
       "    <tr>\n",
       "      <th>50%</th>\n",
       "      <td>243.750000</td>\n",
       "      <td>232.145833</td>\n",
       "      <td>17.235000</td>\n",
       "      <td>9.654000</td>\n",
       "      <td>16.725000</td>\n",
       "      <td>8.543854</td>\n",
       "      <td>68.000000</td>\n",
       "    </tr>\n",
       "    <tr>\n",
       "      <th>75%</th>\n",
       "      <td>279.541667</td>\n",
       "      <td>263.229167</td>\n",
       "      <td>21.967500</td>\n",
       "      <td>14.015000</td>\n",
       "      <td>21.600000</td>\n",
       "      <td>9.846248</td>\n",
       "      <td>79.000000</td>\n",
       "    </tr>\n",
       "    <tr>\n",
       "      <th>max</th>\n",
       "      <td>435.416667</td>\n",
       "      <td>403.916667</td>\n",
       "      <td>31.675000</td>\n",
       "      <td>19.715000</td>\n",
       "      <td>29.840000</td>\n",
       "      <td>12.412511</td>\n",
       "      <td>94.000000</td>\n",
       "    </tr>\n",
       "  </tbody>\n",
       "</table>\n",
       "</div>"
      ],
      "text/plain": [
       "       actualCarbon  forecastCarbon     maxTemp     minTemp        temp  \\\n",
       "count    273.000000      273.000000  273.000000  273.000000  273.000000   \n",
       "mean     248.404483      238.338091   16.251861    9.326029   15.510824   \n",
       "std       56.811099       54.858057    7.563434    5.581742    7.702225   \n",
       "min      128.854167      136.395833   -2.137500   -4.688000   -2.675000   \n",
       "25%      211.166667      202.125000    9.750000    4.802000    8.755000   \n",
       "50%      243.750000      232.145833   17.235000    9.654000   16.725000   \n",
       "75%      279.541667      263.229167   21.967500   14.015000   21.600000   \n",
       "max      435.416667      403.916667   31.675000   19.715000   29.840000   \n",
       "\n",
       "       visibility    humidity  \n",
       "count  273.000000  273.000000  \n",
       "mean     8.104013   67.520147  \n",
       "std      2.313617   13.712400  \n",
       "min      1.713120   36.000000  \n",
       "25%      6.541796   56.000000  \n",
       "50%      8.543854   68.000000  \n",
       "75%      9.846248   79.000000  \n",
       "max     12.412511   94.000000  "
      ]
     },
     "execution_count": 217,
     "metadata": {},
     "output_type": "execute_result"
    }
   ],
   "source": [
    "uk_df.describe()"
   ]
  },
  {
   "cell_type": "code",
   "execution_count": 218,
   "metadata": {},
   "outputs": [
    {
     "data": {
      "text/plain": [
       "<matplotlib.axes._subplots.AxesSubplot at 0x1a37029438>"
      ]
     },
     "execution_count": 218,
     "metadata": {},
     "output_type": "execute_result"
    },
    {
     "data": {
      "image/png": "[encoded data removed]",
      "text/plain": [
       "<matplotlib.figure.Figure at 0x1a37125080>"
      ]
     },
     "metadata": {},
     "output_type": "display_data"
    }
   ],
   "source": [
    "f, ax = plt.subplots(figsize=(15,10))\n",
    "sns.heatmap(uk_df.corr(), annot=True, linecolor='white', linewidths=0.7, square=True, center=0)"
   ]
  },
  {
   "cell_type": "markdown",
   "metadata": {},
   "source": [
    "Here's some visualizations of carbon levels and forecasts. I used rolling mean to create a clearer image."
   ]
  },
  {
   "cell_type": "code",
   "execution_count": 263,
   "metadata": {},
   "outputs": [
    {
     "data": {
      "text/plain": [
       "<matplotlib.legend.Legend at 0x1a3d14a080>"
      ]
     },
     "execution_count": 263,
     "metadata": {},
     "output_type": "execute_result"
    },
    {
     "data": {
      "image/png": "[encoded data removed]",
      "text/plain": [
       "<matplotlib.figure.Figure at 0x1a366c5048>"
      ]
     },
     "metadata": {},
     "output_type": "display_data"
    }
   ],
   "source": [
    "fig, ax = plt.subplots()\n",
    "sns.lineplot(x='index',y='actualCarbon',data=uk_df.reset_index(), ax=ax, label='actualCarbon')\n",
    "uk_df.actualCarbon.rolling(16).mean().plot(ax=ax, label='smoothed')\n",
    "uk_df.forecastCarbon.rolling(16).mean().plot(ax=ax, label='forecastCarbon')\n",
    "plt.xlabel('date')\n",
    "plt.ylabel('carbon levels')\n",
    "plt.legend()"
   ]
  },
  {
   "cell_type": "code",
   "execution_count": null,
   "metadata": {},
   "outputs": [],
   "source": []
  },
  {
   "cell_type": "code",
   "execution_count": null,
   "metadata": {},
   "outputs": [],
   "source": []
  },
  {
   "cell_type": "code",
   "execution_count": null,
   "metadata": {},
   "outputs": [],
   "source": []
  }
 ],
 "metadata": {
  "kernelspec": {
   "display_name": "Python 3",
   "language": "python",
   "name": "python3"
  },
  "language_info": {
   "codemirror_mode": {
    "name": "ipython",
    "version": 3
   },
   "file_extension": ".py",
   "mimetype": "text/x-python",
   "name": "python",
   "nbconvert_exporter": "python",
   "pygments_lexer": "ipython3",
   "version": "3.6.4"
  }
 },
 "nbformat": 4,
 "nbformat_minor": 2
}
